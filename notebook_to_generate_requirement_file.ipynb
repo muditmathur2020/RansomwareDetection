{
 "cells": [
  {
   "cell_type": "code",
   "execution_count": 1,
   "id": "387f61aa-ed0d-43d1-b7a3-edae97f98a85",
   "metadata": {},
   "outputs": [],
   "source": [
    "import re\n",
    "\n",
    "# Step 1: Extract imports from the notebook\n",
    "with open('./Ransomware.ipynb', 'r') as file:\n",
    "    notebook_content = file.read()\n",
    "\n",
    "# Use regex to find all imported libraries\n",
    "imports = set(re.findall(r'import (\\S+)|from (\\S+) import', notebook_content))\n",
    "\n",
    "# Flatten the list of tuples into a set of unique library names\n",
    "libraries = set([item for sublist in imports for item in sublist if item])\n",
    "\n",
    "# Step 2: Compare with pip freeze\n",
    "pip_freeze = !pip freeze\n",
    "filtered_packages = []\n",
    "\n",
    "for package in pip_freeze:\n",
    "    for library in libraries:\n",
    "        if package.startswith(library):\n",
    "            filtered_packages.append(package)\n",
    "\n",
    "# Step 3: Write to requirements.txt\n",
    "with open('requirements.txt', 'w') as f:\n",
    "    f.write(\"\\n\".join(filtered_packages))"
   ]
  },
  {
   "cell_type": "code",
   "execution_count": null,
   "id": "6b53bc04-e6a5-48f5-a4e4-f94a25479554",
   "metadata": {},
   "outputs": [],
   "source": []
  }
 ],
 "metadata": {
  "kernelspec": {
   "display_name": "Python 3 (ipykernel)",
   "language": "python",
   "name": "python3"
  },
  "language_info": {
   "codemirror_mode": {
    "name": "ipython",
    "version": 3
   },
   "file_extension": ".py",
   "mimetype": "text/x-python",
   "name": "python",
   "nbconvert_exporter": "python",
   "pygments_lexer": "ipython3",
   "version": "3.11.7"
  }
 },
 "nbformat": 4,
 "nbformat_minor": 5
}
